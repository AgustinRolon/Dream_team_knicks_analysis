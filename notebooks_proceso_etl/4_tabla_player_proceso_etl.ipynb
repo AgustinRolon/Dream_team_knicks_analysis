{
 "cells": [
  {
   "cell_type": "markdown",
   "metadata": {},
   "source": [
    "# Tabla players"
   ]
  },
  {
   "cell_type": "code",
   "execution_count": 19,
   "metadata": {},
   "outputs": [],
   "source": [
    "import pandas as pd\n",
    "import numpy as np"
   ]
  },
  {
   "cell_type": "markdown",
   "metadata": {},
   "source": [
    "Para crear esta dimensión utilizaremos las ids de la tabla de hechos de player_stats, las cuales necesitaran un tratado porque vendrán duplicadas, debido a que en la tabla de hechos las player_id se repiten debido a la presencia de los mismos jugadores en varias temporadas."
   ]
  },
  {
   "cell_type": "code",
   "execution_count": 20,
   "metadata": {},
   "outputs": [],
   "source": [
    "players= pd.read_csv('player_final_merged_with_stats.csv')"
   ]
  },
  {
   "cell_type": "code",
   "execution_count": 21,
   "metadata": {},
   "outputs": [
    {
     "data": {
      "text/html": [
       "<div>\n",
       "<style scoped>\n",
       "    .dataframe tbody tr th:only-of-type {\n",
       "        vertical-align: middle;\n",
       "    }\n",
       "\n",
       "    .dataframe tbody tr th {\n",
       "        vertical-align: top;\n",
       "    }\n",
       "\n",
       "    .dataframe thead th {\n",
       "        text-align: right;\n",
       "    }\n",
       "</style>\n",
       "<table border=\"1\" class=\"dataframe\">\n",
       "  <thead>\n",
       "    <tr style=\"text-align: right;\">\n",
       "      <th></th>\n",
       "      <th>primary_key_composed</th>\n",
       "      <th>player_id</th>\n",
       "      <th>player_name</th>\n",
       "      <th>position</th>\n",
       "      <th>age</th>\n",
       "      <th>team_abbreviation</th>\n",
       "      <th>GP</th>\n",
       "      <th>GS</th>\n",
       "      <th>MP</th>\n",
       "      <th>FG</th>\n",
       "      <th>...</th>\n",
       "      <th>DRB</th>\n",
       "      <th>TRB</th>\n",
       "      <th>AST</th>\n",
       "      <th>STL</th>\n",
       "      <th>BLK</th>\n",
       "      <th>TOV</th>\n",
       "      <th>PF</th>\n",
       "      <th>PTS</th>\n",
       "      <th>season_id</th>\n",
       "      <th>TOTAL TEAM</th>\n",
       "    </tr>\n",
       "  </thead>\n",
       "  <tbody>\n",
       "    <tr>\n",
       "      <th>0</th>\n",
       "      <td>1_2021</td>\n",
       "      <td>1</td>\n",
       "      <td>Jaylen Adams</td>\n",
       "      <td>PG</td>\n",
       "      <td>24</td>\n",
       "      <td>[MIL]</td>\n",
       "      <td>6</td>\n",
       "      <td>0</td>\n",
       "      <td>2.8</td>\n",
       "      <td>0.2</td>\n",
       "      <td>...</td>\n",
       "      <td>0.5</td>\n",
       "      <td>0.5</td>\n",
       "      <td>0.3</td>\n",
       "      <td>0.0</td>\n",
       "      <td>0.0</td>\n",
       "      <td>0.0</td>\n",
       "      <td>0.2</td>\n",
       "      <td>0.3</td>\n",
       "      <td>2021</td>\n",
       "      <td>[MIL]</td>\n",
       "    </tr>\n",
       "    <tr>\n",
       "      <th>1</th>\n",
       "      <td>2_2021</td>\n",
       "      <td>2</td>\n",
       "      <td>Bam Adebayo</td>\n",
       "      <td>C</td>\n",
       "      <td>23</td>\n",
       "      <td>[MIA]</td>\n",
       "      <td>26</td>\n",
       "      <td>26</td>\n",
       "      <td>33.6</td>\n",
       "      <td>7.4</td>\n",
       "      <td>...</td>\n",
       "      <td>7.3</td>\n",
       "      <td>9.2</td>\n",
       "      <td>5.3</td>\n",
       "      <td>1.0</td>\n",
       "      <td>1.0</td>\n",
       "      <td>3.0</td>\n",
       "      <td>2.6</td>\n",
       "      <td>19.9</td>\n",
       "      <td>2021</td>\n",
       "      <td>[MIA/MIA/MIA]</td>\n",
       "    </tr>\n",
       "    <tr>\n",
       "      <th>2</th>\n",
       "      <td>3_2021</td>\n",
       "      <td>3</td>\n",
       "      <td>Ty-Shon Alexander</td>\n",
       "      <td>SG</td>\n",
       "      <td>22</td>\n",
       "      <td>[PHO]</td>\n",
       "      <td>3</td>\n",
       "      <td>0</td>\n",
       "      <td>2.7</td>\n",
       "      <td>0.0</td>\n",
       "      <td>...</td>\n",
       "      <td>0.3</td>\n",
       "      <td>0.3</td>\n",
       "      <td>0.3</td>\n",
       "      <td>0.0</td>\n",
       "      <td>0.0</td>\n",
       "      <td>0.0</td>\n",
       "      <td>0.3</td>\n",
       "      <td>0.0</td>\n",
       "      <td>2021</td>\n",
       "      <td>[PHO]</td>\n",
       "    </tr>\n",
       "    <tr>\n",
       "      <th>3</th>\n",
       "      <td>4_2021</td>\n",
       "      <td>4</td>\n",
       "      <td>Jarrett Allen</td>\n",
       "      <td>C</td>\n",
       "      <td>22</td>\n",
       "      <td>[TOT]</td>\n",
       "      <td>28</td>\n",
       "      <td>10</td>\n",
       "      <td>26.2</td>\n",
       "      <td>4.4</td>\n",
       "      <td>...</td>\n",
       "      <td>6.1</td>\n",
       "      <td>9.0</td>\n",
       "      <td>1.6</td>\n",
       "      <td>0.5</td>\n",
       "      <td>1.6</td>\n",
       "      <td>1.5</td>\n",
       "      <td>1.6</td>\n",
       "      <td>12.3</td>\n",
       "      <td>2021</td>\n",
       "      <td>[BRK/CLE/CLE/CLE]</td>\n",
       "    </tr>\n",
       "    <tr>\n",
       "      <th>4</th>\n",
       "      <td>5_2021</td>\n",
       "      <td>5</td>\n",
       "      <td>Al-Farouq Aminu</td>\n",
       "      <td>PF</td>\n",
       "      <td>30</td>\n",
       "      <td>[ORL]</td>\n",
       "      <td>2</td>\n",
       "      <td>0</td>\n",
       "      <td>8.0</td>\n",
       "      <td>0.5</td>\n",
       "      <td>...</td>\n",
       "      <td>1.5</td>\n",
       "      <td>2.0</td>\n",
       "      <td>1.0</td>\n",
       "      <td>0.0</td>\n",
       "      <td>0.0</td>\n",
       "      <td>1.0</td>\n",
       "      <td>0.0</td>\n",
       "      <td>1.5</td>\n",
       "      <td>2021</td>\n",
       "      <td>[ORL]</td>\n",
       "    </tr>\n",
       "  </tbody>\n",
       "</table>\n",
       "<p>5 rows × 33 columns</p>\n",
       "</div>"
      ],
      "text/plain": [
       "  primary_key_composed  player_id        player_name position  age  \\\n",
       "0               1_2021          1       Jaylen Adams       PG   24   \n",
       "1               2_2021          2        Bam Adebayo        C   23   \n",
       "2               3_2021          3  Ty-Shon Alexander       SG   22   \n",
       "3               4_2021          4      Jarrett Allen        C   22   \n",
       "4               5_2021          5    Al-Farouq Aminu       PF   30   \n",
       "\n",
       "  team_abbreviation  GP  GS    MP   FG  ...  DRB  TRB  AST  STL  BLK  TOV  \\\n",
       "0             [MIL]   6   0   2.8  0.2  ...  0.5  0.5  0.3  0.0  0.0  0.0   \n",
       "1             [MIA]  26  26  33.6  7.4  ...  7.3  9.2  5.3  1.0  1.0  3.0   \n",
       "2             [PHO]   3   0   2.7  0.0  ...  0.3  0.3  0.3  0.0  0.0  0.0   \n",
       "3             [TOT]  28  10  26.2  4.4  ...  6.1  9.0  1.6  0.5  1.6  1.5   \n",
       "4             [ORL]   2   0   8.0  0.5  ...  1.5  2.0  1.0  0.0  0.0  1.0   \n",
       "\n",
       "    PF   PTS  season_id         TOTAL TEAM  \n",
       "0  0.2   0.3       2021              [MIL]  \n",
       "1  2.6  19.9       2021      [MIA/MIA/MIA]  \n",
       "2  0.3   0.0       2021              [PHO]  \n",
       "3  1.6  12.3       2021  [BRK/CLE/CLE/CLE]  \n",
       "4  0.0   1.5       2021              [ORL]  \n",
       "\n",
       "[5 rows x 33 columns]"
      ]
     },
     "execution_count": 21,
     "metadata": {},
     "output_type": "execute_result"
    }
   ],
   "source": [
    "players.head()"
   ]
  },
  {
   "cell_type": "code",
   "execution_count": 22,
   "metadata": {},
   "outputs": [
    {
     "name": "stdout",
     "output_type": "stream",
     "text": [
      "     player_id        player_name\n",
      "0            1       Jaylen Adams\n",
      "1            2        Bam Adebayo\n",
      "2            3  Ty-Shon Alexander\n",
      "3            4      Jarrett Allen\n",
      "4            5    Al-Farouq Aminu\n",
      "..         ...                ...\n",
      "865        546      Justin Minaya\n",
      "866        547       Kobi Simmons\n",
      "867        471          Gabe York\n",
      "868        548       RaiQuan Gray\n",
      "869        549      Jacob Gilyard\n",
      "\n",
      "[870 rows x 2 columns]\n"
     ]
    }
   ],
   "source": [
    "# Seleccionamos solo las columnas 2 y 3 (considerando que los índices empiezan en 0)\n",
    "df_seleccionado = players.iloc[:, [1, 2]]\n",
    "\n",
    "# Mostrar el DataFrame resultante\n",
    "print(df_seleccionado)"
   ]
  },
  {
   "cell_type": "markdown",
   "metadata": {},
   "source": [
    "Verificamos los nulos y duplicados:"
   ]
  },
  {
   "cell_type": "code",
   "execution_count": 23,
   "metadata": {},
   "outputs": [
    {
     "name": "stdout",
     "output_type": "stream",
     "text": [
      "             Valores Nulos  Porcentaje Nulos\n",
      "player_id                0               0.0\n",
      "player_name              0               0.0\n"
     ]
    }
   ],
   "source": [
    "# PORCENTAJE DE VALORES NULOS\n",
    "nulos_total = df_seleccionado.isnull().sum()\n",
    "porcentaje_nulos = (nulos_total / len(df_seleccionado)) * 100\n",
    "\n",
    "resumen_nulos = pd.DataFrame({\n",
    "    'Valores Nulos': nulos_total,\n",
    "    'Porcentaje Nulos': porcentaje_nulos\n",
    "})\n",
    "\n",
    "print(resumen_nulos)"
   ]
  },
  {
   "cell_type": "code",
   "execution_count": 24,
   "metadata": {},
   "outputs": [
    {
     "name": "stdout",
     "output_type": "stream",
     "text": [
      "     player_id             player_name\n",
      "1            2             Bam Adebayo\n",
      "5            6   Giannis Antetokounmpo\n",
      "7            8  Thanasis Antetokounmpo\n",
      "8            9            Cole Anthony\n",
      "9           10              OG Anunoby\n",
      "..         ...                     ...\n",
      "857        376             Xavier Moon\n",
      "860         33        Jarrell Brantley\n",
      "861        464       Lindell Wigginton\n",
      "862        415          Jordan Schakel\n",
      "867        471               Gabe York\n",
      "\n",
      "[523 rows x 2 columns]\n"
     ]
    }
   ],
   "source": [
    "duplicados = df_seleccionado.duplicated(keep=False)\n",
    "\n",
    "# Filtra las filas duplicadas\n",
    "datos_duplicados = df_seleccionado[duplicados]\n",
    "print(datos_duplicados)"
   ]
  },
  {
   "cell_type": "code",
   "execution_count": 25,
   "metadata": {},
   "outputs": [
    {
     "name": "stdout",
     "output_type": "stream",
     "text": [
      "Cantidad de filas después de eliminar duplicados: 549\n"
     ]
    }
   ],
   "source": [
    "# Eliminamos las filas duplicadas basadas en la columna 'player_id'\n",
    "df_unique = df_seleccionado.drop_duplicates(subset='player_id', keep='first')\n",
    "\n",
    "# Verificamos si las filas duplicadas fueron eliminadas\n",
    "print(f\"Cantidad de filas después de eliminar duplicados: {df_unique.shape[0]}\")"
   ]
  },
  {
   "cell_type": "markdown",
   "metadata": {},
   "source": [
    "Ahora se verificara que las ID esten presentes correctamente en la tabla de hechos y de dimensión, para asegurar que no falte ninguna."
   ]
  },
  {
   "cell_type": "code",
   "execution_count": 26,
   "metadata": {},
   "outputs": [
    {
     "name": "stdout",
     "output_type": "stream",
     "text": [
      "Todos los player_id están presentes en ambos DataFrames.\n"
     ]
    }
   ],
   "source": [
    "# Obtener los player_id únicos de cada DataFrame\n",
    "player_ids_df1 = set(players['player_id'])\n",
    "player_ids_df2 = set(df_unique['player_id'])\n",
    "\n",
    "# Encontrar player_ids que están en df1 pero no en df2\n",
    "ids_solo_en_df1 = player_ids_df1 - player_ids_df2\n",
    "\n",
    "# Encontrar player_ids que están en df2 pero no en df1\n",
    "ids_solo_en_df2 = player_ids_df2 - player_ids_df1\n",
    "\n",
    "# Verificar si hay diferencias\n",
    "if not ids_solo_en_df1 and not ids_solo_en_df2:\n",
    "    print(\"Todos los player_id están presentes en ambos DataFrames.\")\n",
    "else:\n",
    "    if ids_solo_en_df1:\n",
    "        print(f\"player_id en df1 pero no en df2: {ids_solo_en_df1}\")\n",
    "    if ids_solo_en_df2:\n",
    "        print(f\"player_id en df2 pero no en df1: {ids_solo_en_df2}\")"
   ]
  },
  {
   "cell_type": "markdown",
   "metadata": {},
   "source": [
    "A este nuevo dataframe le tenemos que agregar la columna de Salarios, que la traemos desde un .csv externo de kaggle."
   ]
  },
  {
   "cell_type": "code",
   "execution_count": 27,
   "metadata": {},
   "outputs": [],
   "source": [
    "salario = pd.read_csv('Salarios.csv')"
   ]
  },
  {
   "cell_type": "code",
   "execution_count": 28,
   "metadata": {},
   "outputs": [
    {
     "data": {
      "text/html": [
       "<div>\n",
       "<style scoped>\n",
       "    .dataframe tbody tr th:only-of-type {\n",
       "        vertical-align: middle;\n",
       "    }\n",
       "\n",
       "    .dataframe tbody tr th {\n",
       "        vertical-align: top;\n",
       "    }\n",
       "\n",
       "    .dataframe thead th {\n",
       "        text-align: right;\n",
       "    }\n",
       "</style>\n",
       "<table border=\"1\" class=\"dataframe\">\n",
       "  <thead>\n",
       "    <tr style=\"text-align: right;\">\n",
       "      <th></th>\n",
       "      <th>Unnamed: 0</th>\n",
       "      <th>Player</th>\n",
       "      <th>Salary</th>\n",
       "      <th>Temp</th>\n",
       "    </tr>\n",
       "  </thead>\n",
       "  <tbody>\n",
       "    <tr>\n",
       "      <th>0</th>\n",
       "      <td>0</td>\n",
       "      <td>Stephen Curry</td>\n",
       "      <td>48070014</td>\n",
       "      <td>2023</td>\n",
       "    </tr>\n",
       "    <tr>\n",
       "      <th>1</th>\n",
       "      <td>1</td>\n",
       "      <td>John Wall</td>\n",
       "      <td>47345760</td>\n",
       "      <td>2023</td>\n",
       "    </tr>\n",
       "    <tr>\n",
       "      <th>2</th>\n",
       "      <td>2</td>\n",
       "      <td>Russell Westbrook</td>\n",
       "      <td>47080179</td>\n",
       "      <td>2023</td>\n",
       "    </tr>\n",
       "    <tr>\n",
       "      <th>3</th>\n",
       "      <td>3</td>\n",
       "      <td>LeBron James</td>\n",
       "      <td>44474988</td>\n",
       "      <td>2023</td>\n",
       "    </tr>\n",
       "    <tr>\n",
       "      <th>4</th>\n",
       "      <td>4</td>\n",
       "      <td>Kevin Durant</td>\n",
       "      <td>44119845</td>\n",
       "      <td>2023</td>\n",
       "    </tr>\n",
       "  </tbody>\n",
       "</table>\n",
       "</div>"
      ],
      "text/plain": [
       "   Unnamed: 0             Player    Salary  Temp\n",
       "0           0      Stephen Curry  48070014  2023\n",
       "1           1          John Wall  47345760  2023\n",
       "2           2  Russell Westbrook  47080179  2023\n",
       "3           3       LeBron James  44474988  2023\n",
       "4           4       Kevin Durant  44119845  2023"
      ]
     },
     "execution_count": 28,
     "metadata": {},
     "output_type": "execute_result"
    }
   ],
   "source": [
    "salario.head()"
   ]
  },
  {
   "cell_type": "code",
   "execution_count": 29,
   "metadata": {},
   "outputs": [
    {
     "name": "stdout",
     "output_type": "stream",
     "text": [
      "                Player    Salary\n",
      "0        Stephen Curry  48070014\n",
      "1            John Wall  47345760\n",
      "2    Russell Westbrook  47080179\n",
      "3         LeBron James  44474988\n",
      "4         Kevin Durant  44119845\n",
      "..                 ...       ...\n",
      "462      Justin Minaya     35096\n",
      "463       Kobi Simmons     32795\n",
      "464          Gabe York     32171\n",
      "465       RaiQuan Gray      5849\n",
      "466      Jacob Gilyard      5849\n",
      "\n",
      "[467 rows x 2 columns]\n"
     ]
    }
   ],
   "source": [
    "# Dropeamos las columnas en los índices 0 y 3\n",
    "df_salario = salario.drop(salario.columns[[0, 3]], axis=1)\n",
    "\n",
    "# Mostrar el DataFrame resultante\n",
    "print(df_salario)"
   ]
  },
  {
   "cell_type": "code",
   "execution_count": 30,
   "metadata": {},
   "outputs": [
    {
     "data": {
      "text/html": [
       "<div>\n",
       "<style scoped>\n",
       "    .dataframe tbody tr th:only-of-type {\n",
       "        vertical-align: middle;\n",
       "    }\n",
       "\n",
       "    .dataframe tbody tr th {\n",
       "        vertical-align: top;\n",
       "    }\n",
       "\n",
       "    .dataframe thead th {\n",
       "        text-align: right;\n",
       "    }\n",
       "</style>\n",
       "<table border=\"1\" class=\"dataframe\">\n",
       "  <thead>\n",
       "    <tr style=\"text-align: right;\">\n",
       "      <th></th>\n",
       "      <th>player_id</th>\n",
       "      <th>player_name</th>\n",
       "    </tr>\n",
       "  </thead>\n",
       "  <tbody>\n",
       "    <tr>\n",
       "      <th>0</th>\n",
       "      <td>1</td>\n",
       "      <td>Jaylen Adams</td>\n",
       "    </tr>\n",
       "    <tr>\n",
       "      <th>1</th>\n",
       "      <td>2</td>\n",
       "      <td>Bam Adebayo</td>\n",
       "    </tr>\n",
       "    <tr>\n",
       "      <th>2</th>\n",
       "      <td>3</td>\n",
       "      <td>Ty-Shon Alexander</td>\n",
       "    </tr>\n",
       "    <tr>\n",
       "      <th>3</th>\n",
       "      <td>4</td>\n",
       "      <td>Jarrett Allen</td>\n",
       "    </tr>\n",
       "    <tr>\n",
       "      <th>4</th>\n",
       "      <td>5</td>\n",
       "      <td>Al-Farouq Aminu</td>\n",
       "    </tr>\n",
       "    <tr>\n",
       "      <th>...</th>\n",
       "      <td>...</td>\n",
       "      <td>...</td>\n",
       "    </tr>\n",
       "    <tr>\n",
       "      <th>864</th>\n",
       "      <td>545</td>\n",
       "      <td>Jeenathan Williams</td>\n",
       "    </tr>\n",
       "    <tr>\n",
       "      <th>865</th>\n",
       "      <td>546</td>\n",
       "      <td>Justin Minaya</td>\n",
       "    </tr>\n",
       "    <tr>\n",
       "      <th>866</th>\n",
       "      <td>547</td>\n",
       "      <td>Kobi Simmons</td>\n",
       "    </tr>\n",
       "    <tr>\n",
       "      <th>868</th>\n",
       "      <td>548</td>\n",
       "      <td>RaiQuan Gray</td>\n",
       "    </tr>\n",
       "    <tr>\n",
       "      <th>869</th>\n",
       "      <td>549</td>\n",
       "      <td>Jacob Gilyard</td>\n",
       "    </tr>\n",
       "  </tbody>\n",
       "</table>\n",
       "<p>549 rows × 2 columns</p>\n",
       "</div>"
      ],
      "text/plain": [
       "     player_id         player_name\n",
       "0            1        Jaylen Adams\n",
       "1            2         Bam Adebayo\n",
       "2            3   Ty-Shon Alexander\n",
       "3            4       Jarrett Allen\n",
       "4            5     Al-Farouq Aminu\n",
       "..         ...                 ...\n",
       "864        545  Jeenathan Williams\n",
       "865        546       Justin Minaya\n",
       "866        547        Kobi Simmons\n",
       "868        548        RaiQuan Gray\n",
       "869        549       Jacob Gilyard\n",
       "\n",
       "[549 rows x 2 columns]"
      ]
     },
     "execution_count": 30,
     "metadata": {},
     "output_type": "execute_result"
    }
   ],
   "source": [
    "df_unique"
   ]
  },
  {
   "cell_type": "code",
   "execution_count": 31,
   "metadata": {},
   "outputs": [
    {
     "name": "stderr",
     "output_type": "stream",
     "text": [
      "C:\\Users\\Agus\\AppData\\Local\\Temp\\ipykernel_1028\\3808535591.py:2: SettingWithCopyWarning: \n",
      "A value is trying to be set on a copy of a slice from a DataFrame\n",
      "\n",
      "See the caveats in the documentation: https://pandas.pydata.org/pandas-docs/stable/user_guide/indexing.html#returning-a-view-versus-a-copy\n",
      "  df_unique.rename(columns={'player_name': 'Player'}, inplace=True)\n"
     ]
    }
   ],
   "source": [
    "# Renombrar la columna 'player_name' a 'Player' en df_unique para que coincida con df_salario\n",
    "df_unique.rename(columns={'player_name': 'Player'}, inplace=True)"
   ]
  },
  {
   "cell_type": "code",
   "execution_count": 32,
   "metadata": {},
   "outputs": [],
   "source": [
    "# Realiza el merge en base a la columna 'Player'\n",
    "df_combined = pd.merge(df_unique, df_salario, on='Player', how='left')"
   ]
  },
  {
   "cell_type": "code",
   "execution_count": 33,
   "metadata": {},
   "outputs": [],
   "source": [
    "# Rellenamos con 0 los datos de los jugadores que no sabemos su salario.\n",
    "df_combined = df_combined.fillna(0)\n",
    "df_combined['Salary'] = df_combined['Salary'].astype(int)"
   ]
  },
  {
   "cell_type": "code",
   "execution_count": 34,
   "metadata": {},
   "outputs": [
    {
     "data": {
      "text/html": [
       "<div>\n",
       "<style scoped>\n",
       "    .dataframe tbody tr th:only-of-type {\n",
       "        vertical-align: middle;\n",
       "    }\n",
       "\n",
       "    .dataframe tbody tr th {\n",
       "        vertical-align: top;\n",
       "    }\n",
       "\n",
       "    .dataframe thead th {\n",
       "        text-align: right;\n",
       "    }\n",
       "</style>\n",
       "<table border=\"1\" class=\"dataframe\">\n",
       "  <thead>\n",
       "    <tr style=\"text-align: right;\">\n",
       "      <th></th>\n",
       "      <th>player_id</th>\n",
       "      <th>Player</th>\n",
       "      <th>Salary</th>\n",
       "    </tr>\n",
       "  </thead>\n",
       "  <tbody>\n",
       "    <tr>\n",
       "      <th>0</th>\n",
       "      <td>1</td>\n",
       "      <td>Jaylen Adams</td>\n",
       "      <td>0</td>\n",
       "    </tr>\n",
       "    <tr>\n",
       "      <th>1</th>\n",
       "      <td>2</td>\n",
       "      <td>Bam Adebayo</td>\n",
       "      <td>30351780</td>\n",
       "    </tr>\n",
       "    <tr>\n",
       "      <th>2</th>\n",
       "      <td>3</td>\n",
       "      <td>Ty-Shon Alexander</td>\n",
       "      <td>0</td>\n",
       "    </tr>\n",
       "    <tr>\n",
       "      <th>3</th>\n",
       "      <td>4</td>\n",
       "      <td>Jarrett Allen</td>\n",
       "      <td>20000000</td>\n",
       "    </tr>\n",
       "    <tr>\n",
       "      <th>4</th>\n",
       "      <td>5</td>\n",
       "      <td>Al-Farouq Aminu</td>\n",
       "      <td>0</td>\n",
       "    </tr>\n",
       "    <tr>\n",
       "      <th>...</th>\n",
       "      <td>...</td>\n",
       "      <td>...</td>\n",
       "      <td>...</td>\n",
       "    </tr>\n",
       "    <tr>\n",
       "      <th>544</th>\n",
       "      <td>545</td>\n",
       "      <td>Jeenathan Williams</td>\n",
       "      <td>52644</td>\n",
       "    </tr>\n",
       "    <tr>\n",
       "      <th>545</th>\n",
       "      <td>546</td>\n",
       "      <td>Justin Minaya</td>\n",
       "      <td>35096</td>\n",
       "    </tr>\n",
       "    <tr>\n",
       "      <th>546</th>\n",
       "      <td>547</td>\n",
       "      <td>Kobi Simmons</td>\n",
       "      <td>32795</td>\n",
       "    </tr>\n",
       "    <tr>\n",
       "      <th>547</th>\n",
       "      <td>548</td>\n",
       "      <td>RaiQuan Gray</td>\n",
       "      <td>5849</td>\n",
       "    </tr>\n",
       "    <tr>\n",
       "      <th>548</th>\n",
       "      <td>549</td>\n",
       "      <td>Jacob Gilyard</td>\n",
       "      <td>5849</td>\n",
       "    </tr>\n",
       "  </tbody>\n",
       "</table>\n",
       "<p>549 rows × 3 columns</p>\n",
       "</div>"
      ],
      "text/plain": [
       "     player_id              Player    Salary\n",
       "0            1        Jaylen Adams         0\n",
       "1            2         Bam Adebayo  30351780\n",
       "2            3   Ty-Shon Alexander         0\n",
       "3            4       Jarrett Allen  20000000\n",
       "4            5     Al-Farouq Aminu         0\n",
       "..         ...                 ...       ...\n",
       "544        545  Jeenathan Williams     52644\n",
       "545        546       Justin Minaya     35096\n",
       "546        547        Kobi Simmons     32795\n",
       "547        548        RaiQuan Gray      5849\n",
       "548        549       Jacob Gilyard      5849\n",
       "\n",
       "[549 rows x 3 columns]"
      ]
     },
     "execution_count": 34,
     "metadata": {},
     "output_type": "execute_result"
    }
   ],
   "source": [
    "df_combined"
   ]
  },
  {
   "cell_type": "code",
   "execution_count": 35,
   "metadata": {},
   "outputs": [
    {
     "data": {
      "text/plain": [
       "player_id     int64\n",
       "Player       object\n",
       "Salary        int64\n",
       "dtype: object"
      ]
     },
     "execution_count": 35,
     "metadata": {},
     "output_type": "execute_result"
    }
   ],
   "source": [
    "df_combined.dtypes"
   ]
  },
  {
   "cell_type": "markdown",
   "metadata": {},
   "source": [
    "Guardamos la tabla de dimensión player_info finalizada."
   ]
  },
  {
   "cell_type": "code",
   "execution_count": 36,
   "metadata": {},
   "outputs": [],
   "source": [
    "df_combined.to_csv('player_info_final.csv', index=False)"
   ]
  }
 ],
 "metadata": {
  "kernelspec": {
   "display_name": "Python 3",
   "language": "python",
   "name": "python3"
  },
  "language_info": {
   "codemirror_mode": {
    "name": "ipython",
    "version": 3
   },
   "file_extension": ".py",
   "mimetype": "text/x-python",
   "name": "python",
   "nbconvert_exporter": "python",
   "pygments_lexer": "ipython3",
   "version": "3.12.4"
  }
 },
 "nbformat": 4,
 "nbformat_minor": 2
}
